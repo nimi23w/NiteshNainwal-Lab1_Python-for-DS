{
 "cells": [
  {
   "cell_type": "code",
   "execution_count": 1,
   "id": "998ab88c",
   "metadata": {},
   "outputs": [],
   "source": [
    "import mysql.connector\n",
    "import pandas as pd"
   ]
  },
  {
   "cell_type": "code",
   "execution_count": 2,
   "id": "58eab5e9",
   "metadata": {},
   "outputs": [],
   "source": [
    "connection = mysql.connector.connect(host = \"localhost\",\n",
    "                                     user = \"root\",\n",
    "                                     password = \"M@njali4194\")\n",
    "\n",
    "cursorObject = connection.cursor()\n"
   ]
  },
  {
   "cell_type": "code",
   "execution_count": 4,
   "id": "616f5e53",
   "metadata": {},
   "outputs": [],
   "source": [
    "connection = mysql.connector.connect(host =\"localhost\",\n",
    "                                     user =\"root\",\n",
    "                                     passwd =\"M@njali4194\")\n",
    " \n",
    "cursorObject = connection.cursor()\n",
    " \n",
    "cursorObject.execute(\"CREATE DATABASE E_Commerce1\")\n",
    "\n",
    "connection.close()"
   ]
  },
  {
   "cell_type": "code",
   "execution_count": 7,
   "id": "bcc58e1c",
   "metadata": {},
   "outputs": [],
   "source": [
    "connection = mysql.connector.connect(host =\"localhost\",\n",
    "                                     user =\"root\",\n",
    "                                     passwd =\"M@njali4194\",\n",
    "                                     database = 'e_commerce1')\n",
    " \n",
    "\n",
    "cursorObject = connection.cursor()\n",
    "\n",
    "tables=\"\"\" create table supplier(SUPP_ID int primary key, \n",
    "                                        SUPP_NAME varchar(50),\n",
    "                                        SUPP_CITY varchar(50), \n",
    "                                        SUPP_PHONE varchar(10));\n",
    "\n",
    "                  create table customer (CUS_ID int primary key, \n",
    "                                         CUS_NAME VARCHAR(20) NULL DEFAULT NULL,\n",
    "                                         CUS_PHONE VARCHAR(10),\n",
    "                                         CUS_CITY varchar(30) ,\n",
    "                                         CUS_GENDER CHAR);\n",
    "                                         \n",
    "\n",
    "                  create table category (CAT_ID int  primary key,\n",
    "                                         CAT_NAME VARCHAR(20) NULL DEFAULT NULL);\n",
    "\n",
    "                  create table product (PRO_ID int PRIMARY KEY , \n",
    "                                        PRO_NAME VARCHAR(20) NULL DEFAULT NULL,\n",
    "                                        PRO_DESC VARCHAR(60) NULL DEFAULT NULL, \n",
    "                                        CAT_ID INT NOT NULL,\n",
    "                                        FOREIGN KEY (CAT_ID) REFERENCES category (CAT_ID));\n",
    "\n",
    "                  create table product_details (PROD_ID int primary key,\n",
    "                                                 PRO_ID INT NOT NULL, \n",
    "                                                 SUPP_ID INT NOT NULL, \n",
    "                                                 PROD_PRICE INT NOT NULL, \n",
    "                                                 FOREIGN KEY (PRO_ID) REFERENCES product (PRO_ID), \n",
    "                                                 FOREIGN KEY (SUPP_ID) REFERENCES supplier(SUPP_ID));\n",
    "                                                 \n",
    "                  create table orders (ORD_ID int primary key, \n",
    "                                      ORD_AMOUNT INT NOT NULL , \n",
    "                                      ORD_DATE DATE, \n",
    "                                      CUS_ID INT NOT NULL, \n",
    "                                      PROD_ID INT NOT NULL,\n",
    "                                      FOREIGN KEY (CUS_ID) REFERENCES customer(CUS_ID),\n",
    "                                      FOREIGN KEY (PROD_ID) REFERENCES product_details(PROD_ID));\n",
    "\n",
    "                  create table rating (RAT_ID int primary key, \n",
    "                                      CUS_ID INT NOT NULL, \n",
    "                                      SUPP_ID INT NOT NULL, \n",
    "                                      RAT_RATSTARS INT NOT NULL,\n",
    "                                      FOREIGN KEY (SUPP_ID) REFERENCES supplier (SUPP_ID),\n",
    "                                      FOREIGN KEY (CUS_ID) REFERENCES customer(CUS_ID));\n",
    "                                      \"\"\"\n",
    "\n",
    "cursorObject.execute(tables)"
   ]
  },
  {
   "cell_type": "code",
   "execution_count": 10,
   "id": "16ff7f5b",
   "metadata": {},
   "outputs": [],
   "source": [
    "## closing the connection \n",
    "connection.close()\n",
    "## Lets make a connection to Mysql server and choose database 'e_commerce'\n",
    "connection = mysql.connector.connect(host =\"localhost\",\n",
    "                                     user =\"root\",\n",
    "                                     passwd =\"M@njali4194\",\n",
    "                                     database='e_commerce1')\n",
    "## creating a cursor object\n",
    "cursorObject = connection.cursor()"
   ]
  },
  {
   "cell_type": "code",
   "execution_count": 11,
   "id": "8aea6ed1",
   "metadata": {},
   "outputs": [],
   "source": [
    "insert_supplier = \"\"\"INSERT INTO supplier(SUPP_ID, SUPP_NAME, SUPP_CITY, SUPP_PHONE)\n",
    "                    VALUES(%s,%s,%s,%s)\"\"\"\n",
    "\n",
    "val = [(1,'Rajesh Retails','Delhi',1234567890),\n",
    "      (2,'Appario Ltd.','Mumbai',2589631470),\n",
    "      (3,'Knome products','Bangalore',9785462315),\n",
    "      (4,'Bansal Retails','Kochi',8975463285),\n",
    "      (5,'Mittal Ltd.','Lucknow',7898456532)]\n",
    "\n",
    "cursorObject.executemany(insert_supplier,val)\n",
    "connection.commit()"
   ]
  },
  {
   "cell_type": "code",
   "execution_count": 12,
   "id": "6d6c664d",
   "metadata": {},
   "outputs": [],
   "source": [
    "insert_customer_details=\"\"\"INSERT INTO customer(CUS_ID , CUS_NAME, CUS_PHONE, CUS_CITY ,CUS_GENDER)\n",
    "                    VALUES(%s,%s,%s,%s,%s)\"\"\"\n",
    "val=[(1,'AAKASH',9999999999,'DELHI','M'),\n",
    "     (2,'AMAN',9785463215,'NOIDA','M'),\n",
    "     (3,'NEHA',9999999998,'MUMBAI','F'),\n",
    "     (4,'MEGHA',9994562399,'KOLKATA','F'),\n",
    "     (5,'PULKIT',7895999999,'LUCKNOW','M')]\n",
    "cursorObject.executemany(insert_customer_details,val)\n",
    "connection.commit()\n"
   ]
  },
  {
   "cell_type": "code",
   "execution_count": 13,
   "id": "c33f2469",
   "metadata": {},
   "outputs": [],
   "source": [
    "insert_category=\"\"\"INSERT INTO category(CAT_ID , CAT_NAME) \n",
    "                    VALUES(%s,%s)\"\"\"\n",
    "val=[(1,'BOOKS'),\n",
    "     (2,'GAMES'),\n",
    "     (3,'GROCERIES'),\n",
    "     (4,'ELECTRONICS'),\n",
    "     (5,'CLOTHES')]\n",
    "cursorObject.executemany(insert_category,val)\n",
    "connection.commit()"
   ]
  },
  {
   "cell_type": "code",
   "execution_count": 14,
   "id": "4ec4a03c",
   "metadata": {},
   "outputs": [],
   "source": [
    "insert_product_details=\"\"\"INSERT INTO product(PRO_ID,PRO_NAME, PRO_DESC,CAT_ID )\n",
    "                    VALUES(%s,%s,%s,%s)\"\"\"\n",
    "val=[(1,'GTA V','DFJDJFDJFDJFDJFJF',2),\n",
    "     (2,'TSHIRT','DFDFJDFJDKFD',5),\n",
    "     (3,'ROG LAPTOP','DFNTTNTNTERND',4),\n",
    "     (4,'OATS','REURENTBTOTH',3),\n",
    "     (5,'HARRY POTTER','NBEMCTHTJTH',1)]\n",
    "\n",
    "\n",
    "cursorObject.executemany(insert_product_details,val)\n",
    "connection.commit()"
   ]
  },
  {
   "cell_type": "code",
   "execution_count": 15,
   "id": "7036525d",
   "metadata": {},
   "outputs": [],
   "source": [
    "insert_products=\"\"\"INSERT INTO product_details(PROD_ID,PRO_ID,SUPP_ID,PROD_PRICE )\n",
    "                    VALUES(%s,%s,%s,%s)\"\"\"\n",
    "val=[(1,1,2,1500),\n",
    "     (2,3,5,30000),\n",
    "     (3,5,1,3000),\n",
    "     (4,2,3,2500),\n",
    "     (5,4,1,1000)]\n",
    "\n",
    "\n",
    "cursorObject.executemany(insert_products,val)\n",
    "connection.commit()\n"
   ]
  },
  {
   "cell_type": "code",
   "execution_count": 16,
   "id": "43d68fe6",
   "metadata": {},
   "outputs": [],
   "source": [
    "insert_orders=\"\"\"INSERT INTO orders(ORD_ID, ORD_AMOUNT,ORD_DATE,CUS_ID,PROD_ID )\n",
    "                    VALUES(%s,%s,%s,%s,%s)\"\"\"\n",
    "val=[(20,1500,'2021-10-12',3,5),\n",
    "     (25,30500,'2021-09-16',5,2),\n",
    "     (26,2000,'2021-10-05',1,1),\n",
    "     (30,3500,'2021-08-16',4,3),\n",
    "     (50,2000,'2021-10-06',2,1)]\n",
    "\n",
    "cursorObject.executemany(insert_orders,val)\n",
    "connection.commit()"
   ]
  },
  {
   "cell_type": "code",
   "execution_count": 17,
   "id": "280e5a9b",
   "metadata": {},
   "outputs": [],
   "source": [
    "insert_rating=\"\"\"INSERT INTO rating(RAT_ID,CUS_ID,SUPP_ID, RAT_RATSTARS)\n",
    "                    VALUES(%s,%s,%s,%s)\"\"\"\n",
    "val=[(1,2,2,4),\n",
    "     (2,3,4,3),\n",
    "     (3,5,1,5),\n",
    "     (4,1,3,2),\n",
    "     (5,4,5,4)]\n",
    "\n",
    "cursorObject.executemany(insert_rating,val)\n",
    "connection.commit()"
   ]
  },
  {
   "cell_type": "code",
   "execution_count": 32,
   "id": "a32bfb29",
   "metadata": {},
   "outputs": [],
   "source": [
    "connection.close()"
   ]
  },
  {
   "cell_type": "code",
   "execution_count": 33,
   "id": "ce8de74e",
   "metadata": {},
   "outputs": [],
   "source": [
    "connection = mysql.connector.connect(host =\"localhost\",\n",
    "                                     user =\"root\",\n",
    "                                     passwd =\"M@njali4194\",\n",
    "                                     database='e_commerce1')\n",
    "## creating a cursor object\n",
    "cursorObject = connection.cursor()"
   ]
  },
  {
   "cell_type": "code",
   "execution_count": 34,
   "id": "63eec5cc",
   "metadata": {},
   "outputs": [
    {
     "data": {
      "text/html": [
       "<div>\n",
       "<style scoped>\n",
       "    .dataframe tbody tr th:only-of-type {\n",
       "        vertical-align: middle;\n",
       "    }\n",
       "\n",
       "    .dataframe tbody tr th {\n",
       "        vertical-align: top;\n",
       "    }\n",
       "\n",
       "    .dataframe thead th {\n",
       "        text-align: right;\n",
       "    }\n",
       "</style>\n",
       "<table border=\"1\" class=\"dataframe\">\n",
       "  <thead>\n",
       "    <tr style=\"text-align: right;\">\n",
       "      <th></th>\n",
       "      <th>Customer-name</th>\n",
       "      <th>Count of the customers</th>\n",
       "    </tr>\n",
       "  </thead>\n",
       "  <tbody>\n",
       "    <tr>\n",
       "      <th>0</th>\n",
       "      <td>M</td>\n",
       "      <td>1</td>\n",
       "    </tr>\n",
       "    <tr>\n",
       "      <th>1</th>\n",
       "      <td>F</td>\n",
       "      <td>1</td>\n",
       "    </tr>\n",
       "  </tbody>\n",
       "</table>\n",
       "</div>"
      ],
      "text/plain": [
       "  Customer-name  Count of the customers\n",
       "0             M                       1\n",
       "1             F                       1"
      ]
     },
     "execution_count": 34,
     "metadata": {},
     "output_type": "execute_result"
    }
   ],
   "source": [
    "question_one=\"\"\" select c.CUS_GENDER,count(c.CUS_ID) from customer c \n",
    "                left join \n",
    "                orders o on o.CUS_ID=c.CUS_ID where\n",
    "                ORD_AMOUNT>=3000 group by CUS_GENDER;\n",
    "             \"\"\"\n",
    "\n",
    "cursorObject.execute(question_one)\n",
    " \n",
    "output = cursorObject.fetchall()\n",
    "output_df = pd.DataFrame(output, columns=['Customer-name','Count of the customers'])\n",
    "output_df\n"
   ]
  },
  {
   "cell_type": "code",
   "execution_count": 35,
   "id": "11d6cd94",
   "metadata": {},
   "outputs": [
    {
     "data": {
      "text/html": [
       "<div>\n",
       "<style scoped>\n",
       "    .dataframe tbody tr th:only-of-type {\n",
       "        vertical-align: middle;\n",
       "    }\n",
       "\n",
       "    .dataframe tbody tr th {\n",
       "        vertical-align: top;\n",
       "    }\n",
       "\n",
       "    .dataframe thead th {\n",
       "        text-align: right;\n",
       "    }\n",
       "</style>\n",
       "<table border=\"1\" class=\"dataframe\">\n",
       "  <thead>\n",
       "    <tr style=\"text-align: right;\">\n",
       "      <th></th>\n",
       "      <th>Order_Id</th>\n",
       "      <th>Order_Amount</th>\n",
       "      <th>Order_Date</th>\n",
       "      <th>Customer_Id</th>\n",
       "      <th>Product_Id</th>\n",
       "      <th>Product_Name</th>\n",
       "    </tr>\n",
       "  </thead>\n",
       "  <tbody>\n",
       "    <tr>\n",
       "      <th>0</th>\n",
       "      <td>50</td>\n",
       "      <td>2000</td>\n",
       "      <td>2021-10-06</td>\n",
       "      <td>2</td>\n",
       "      <td>1</td>\n",
       "      <td>GTA V</td>\n",
       "    </tr>\n",
       "  </tbody>\n",
       "</table>\n",
       "</div>"
      ],
      "text/plain": [
       "   Order_Id  Order_Amount  Order_Date  Customer_Id  Product_Id Product_Name\n",
       "0        50          2000  2021-10-06            2           1        GTA V"
      ]
     },
     "execution_count": 35,
     "metadata": {},
     "output_type": "execute_result"
    }
   ],
   "source": [
    "question_two=\"\"\"select o.ORD_ID,o.ORD_AMOUNT,o.ORD_DATE,o.CUS_ID,o.PROD_ID,p.PRO_NAME from orders o \n",
    "    join product_details pd on o.PROD_ID=pd.PROD_ID \n",
    "    join product p on p.PRO_ID=pd.PRO_ID group by CUS_ID having CUS_ID=2;\n",
    "    \"\"\"\n",
    "cursorObject.execute(question_two)\n",
    " \n",
    "output = cursorObject.fetchall()\n",
    "output_df = pd.DataFrame(output, columns=['Order_Id','Order_Amount','Order_Date','Customer_Id','Product_Id','Product_Name'])\n",
    "output_df"
   ]
  },
  {
   "cell_type": "code",
   "execution_count": 36,
   "id": "d3a5aaa9",
   "metadata": {},
   "outputs": [
    {
     "data": {
      "text/html": [
       "<div>\n",
       "<style scoped>\n",
       "    .dataframe tbody tr th:only-of-type {\n",
       "        vertical-align: middle;\n",
       "    }\n",
       "\n",
       "    .dataframe tbody tr th {\n",
       "        vertical-align: top;\n",
       "    }\n",
       "\n",
       "    .dataframe thead th {\n",
       "        text-align: right;\n",
       "    }\n",
       "</style>\n",
       "<table border=\"1\" class=\"dataframe\">\n",
       "  <thead>\n",
       "    <tr style=\"text-align: right;\">\n",
       "      <th></th>\n",
       "      <th>Supplier_Id</th>\n",
       "      <th>Supplier_Name</th>\n",
       "      <th>Supplier_City</th>\n",
       "      <th>Supplier_Phone</th>\n",
       "    </tr>\n",
       "  </thead>\n",
       "  <tbody>\n",
       "    <tr>\n",
       "      <th>0</th>\n",
       "      <td>1</td>\n",
       "      <td>Rajesh Retails</td>\n",
       "      <td>Delhi</td>\n",
       "      <td>1234567890</td>\n",
       "    </tr>\n",
       "  </tbody>\n",
       "</table>\n",
       "</div>"
      ],
      "text/plain": [
       "   Supplier_Id   Supplier_Name Supplier_City Supplier_Phone\n",
       "0            1  Rajesh Retails         Delhi     1234567890"
      ]
     },
     "execution_count": 36,
     "metadata": {},
     "output_type": "execute_result"
    }
   ],
   "source": [
    "question_three=\"\"\" select  s.SUPP_ID ,s.SUPP_NAME,s.SUPP_CITY,s.SUPP_PHONE from supplier s  inner join \n",
    "                 ( select pd.SUPP_ID from product_details pd group by \n",
    "                 SUPP_ID having count(SUPP_ID)>1) as c on s.SUPP_ID=c.SUPP_ID;';\n",
    "             \"\"\"\n",
    "\n",
    "cursorObject.execute(question_three)\n",
    " \n",
    "output = cursorObject.fetchall()\n",
    "output_df = pd.DataFrame(output, columns=['Supplier_Id','Supplier_Name','Supplier_City','Supplier_Phone'])\n",
    "output_df"
   ]
  },
  {
   "cell_type": "code",
   "execution_count": 38,
   "id": "2d50c7b8",
   "metadata": {},
   "outputs": [],
   "source": [
    "connection.close()"
   ]
  },
  {
   "cell_type": "code",
   "execution_count": 39,
   "id": "1015e38e",
   "metadata": {},
   "outputs": [],
   "source": [
    "connection = mysql.connector.connect(host =\"localhost\",\n",
    "                                     user =\"root\",\n",
    "                                     passwd =\"M@njali4194\",\n",
    "                                     database='e_commerce1')\n",
    "## creating a cursor object\n",
    "cursorObject = connection.cursor()"
   ]
  },
  {
   "cell_type": "code",
   "execution_count": 40,
   "id": "07d9f2e2",
   "metadata": {},
   "outputs": [
    {
     "data": {
      "text/html": [
       "<div>\n",
       "<style scoped>\n",
       "    .dataframe tbody tr th:only-of-type {\n",
       "        vertical-align: middle;\n",
       "    }\n",
       "\n",
       "    .dataframe tbody tr th {\n",
       "        vertical-align: top;\n",
       "    }\n",
       "\n",
       "    .dataframe thead th {\n",
       "        text-align: right;\n",
       "    }\n",
       "</style>\n",
       "<table border=\"1\" class=\"dataframe\">\n",
       "  <thead>\n",
       "    <tr style=\"text-align: right;\">\n",
       "      <th></th>\n",
       "      <th>Order_Amount</th>\n",
       "      <th>Category_Id</th>\n",
       "      <th>Category_Name</th>\n",
       "    </tr>\n",
       "  </thead>\n",
       "  <tbody>\n",
       "    <tr>\n",
       "      <th>0</th>\n",
       "      <td>1500</td>\n",
       "      <td>4</td>\n",
       "      <td>ELECTRONICS</td>\n",
       "    </tr>\n",
       "  </tbody>\n",
       "</table>\n",
       "</div>"
      ],
      "text/plain": [
       "   Order_Amount  Category_Id Category_Name\n",
       "0          1500            4   ELECTRONICS"
      ]
     },
     "execution_count": 40,
     "metadata": {},
     "output_type": "execute_result"
    }
   ],
   "source": [
    "question_four=\"\"\" select o.ORD_AMOUNT,c.CAT_ID,c.CAT_NAME from orders o\n",
    "                   join product_details pd on o.PROD_ID=pd.PROD_ID \n",
    "                   join product p on p.PRO_ID=pd.PRO_ID\n",
    "                   join category c on c.CAT_ID=p.PRO_ID having min(o.ORD_AMOUNT);\n",
    "             \"\"\"\n",
    "\n",
    "cursorObject.execute(question_four)\n",
    " \n",
    "output = cursorObject.fetchall()\n",
    "output_df = pd.DataFrame(output, columns=['Order_Amount','Category_Id','Category_Name'])\n",
    "output_df"
   ]
  },
  {
   "cell_type": "code",
   "execution_count": 41,
   "id": "679b557a",
   "metadata": {},
   "outputs": [
    {
     "data": {
      "text/html": [
       "<div>\n",
       "<style scoped>\n",
       "    .dataframe tbody tr th:only-of-type {\n",
       "        vertical-align: middle;\n",
       "    }\n",
       "\n",
       "    .dataframe tbody tr th {\n",
       "        vertical-align: top;\n",
       "    }\n",
       "\n",
       "    .dataframe thead th {\n",
       "        text-align: right;\n",
       "    }\n",
       "</style>\n",
       "<table border=\"1\" class=\"dataframe\">\n",
       "  <thead>\n",
       "    <tr style=\"text-align: right;\">\n",
       "      <th></th>\n",
       "      <th>Product_ID</th>\n",
       "      <th>Product_name</th>\n",
       "      <th>Order_Date</th>\n",
       "    </tr>\n",
       "  </thead>\n",
       "  <tbody>\n",
       "    <tr>\n",
       "      <th>0</th>\n",
       "      <td>4</td>\n",
       "      <td>OATS</td>\n",
       "      <td>2021-10-12</td>\n",
       "    </tr>\n",
       "    <tr>\n",
       "      <th>1</th>\n",
       "      <td>1</td>\n",
       "      <td>GTA V</td>\n",
       "      <td>2021-10-06</td>\n",
       "    </tr>\n",
       "  </tbody>\n",
       "</table>\n",
       "</div>"
      ],
      "text/plain": [
       "   Product_ID Product_name  Order_Date\n",
       "0           4         OATS  2021-10-12\n",
       "1           1        GTA V  2021-10-06"
      ]
     },
     "execution_count": 41,
     "metadata": {},
     "output_type": "execute_result"
    }
   ],
   "source": [
    "question_five=\"\"\"select p.PRO_ID,p.PRO_NAME,o.ORD_DATE from orders o \n",
    "                 inner join product_details pd on pd.PROD_ID=o.PROD_ID \n",
    "                 inner join product p on p.PRO_ID=pd.PRO_ID \n",
    "                 having o.ORD_DATE>'2021-10-05';\n",
    "                 \"\"\"\n",
    "cursorObject.execute(question_five)\n",
    " \n",
    "output = cursorObject.fetchall()\n",
    "output_df = pd.DataFrame(output, columns=['Product_ID','Product_name','Order_Date'])\n",
    "output_df"
   ]
  },
  {
   "cell_type": "code",
   "execution_count": 42,
   "id": "ba41ce24",
   "metadata": {},
   "outputs": [
    {
     "data": {
      "text/html": [
       "<div>\n",
       "<style scoped>\n",
       "    .dataframe tbody tr th:only-of-type {\n",
       "        vertical-align: middle;\n",
       "    }\n",
       "\n",
       "    .dataframe tbody tr th {\n",
       "        vertical-align: top;\n",
       "    }\n",
       "\n",
       "    .dataframe thead th {\n",
       "        text-align: right;\n",
       "    }\n",
       "</style>\n",
       "<table border=\"1\" class=\"dataframe\">\n",
       "  <thead>\n",
       "    <tr style=\"text-align: right;\">\n",
       "      <th></th>\n",
       "      <th>Supplier_Id</th>\n",
       "      <th>Supplier_Name</th>\n",
       "      <th>Customer_Name</th>\n",
       "      <th>Rating</th>\n",
       "    </tr>\n",
       "  </thead>\n",
       "  <tbody>\n",
       "    <tr>\n",
       "      <th>0</th>\n",
       "      <td>1</td>\n",
       "      <td>Rajesh Retails</td>\n",
       "      <td>PULKIT</td>\n",
       "      <td>5</td>\n",
       "    </tr>\n",
       "    <tr>\n",
       "      <th>1</th>\n",
       "      <td>2</td>\n",
       "      <td>Appario Ltd.</td>\n",
       "      <td>AMAN</td>\n",
       "      <td>4</td>\n",
       "    </tr>\n",
       "    <tr>\n",
       "      <th>2</th>\n",
       "      <td>5</td>\n",
       "      <td>Mittal Ltd.</td>\n",
       "      <td>MEGHA</td>\n",
       "      <td>4</td>\n",
       "    </tr>\n",
       "  </tbody>\n",
       "</table>\n",
       "</div>"
      ],
      "text/plain": [
       "   Supplier_Id   Supplier_Name Customer_Name  Rating\n",
       "0            1  Rajesh Retails        PULKIT       5\n",
       "1            2    Appario Ltd.          AMAN       4\n",
       "2            5     Mittal Ltd.         MEGHA       4"
      ]
     },
     "execution_count": 42,
     "metadata": {},
     "output_type": "execute_result"
    }
   ],
   "source": [
    "question_six=\"\"\"select s.SUPP_ID,s.SUPP_NAME,c.CUS_NAME,r.RAT_RATSTARS from supplier s\n",
    "                join rating r on r.SUPP_ID=s.SUPP_ID\n",
    "                join customer c on c.CUS_ID=r.CUS_ID order by r.RAT_RATSTARS DESC limit 3;\n",
    "                 \"\"\"\n",
    "cursorObject.execute(question_six)\n",
    " \n",
    "output = cursorObject.fetchall()\n",
    "output_df = pd.DataFrame(output, columns=['Supplier_Id','Supplier_Name','Customer_Name','Rating'])\n",
    "output_df"
   ]
  },
  {
   "cell_type": "code",
   "execution_count": 43,
   "id": "fbc7db93",
   "metadata": {},
   "outputs": [
    {
     "data": {
      "text/html": [
       "<div>\n",
       "<style scoped>\n",
       "    .dataframe tbody tr th:only-of-type {\n",
       "        vertical-align: middle;\n",
       "    }\n",
       "\n",
       "    .dataframe tbody tr th {\n",
       "        vertical-align: top;\n",
       "    }\n",
       "\n",
       "    .dataframe thead th {\n",
       "        text-align: right;\n",
       "    }\n",
       "</style>\n",
       "<table border=\"1\" class=\"dataframe\">\n",
       "  <thead>\n",
       "    <tr style=\"text-align: right;\">\n",
       "      <th></th>\n",
       "      <th>Customer_name</th>\n",
       "      <th>Customer_gender</th>\n",
       "    </tr>\n",
       "  </thead>\n",
       "  <tbody>\n",
       "    <tr>\n",
       "      <th>0</th>\n",
       "      <td>AAKASH</td>\n",
       "      <td>M</td>\n",
       "    </tr>\n",
       "    <tr>\n",
       "      <th>1</th>\n",
       "      <td>AMAN</td>\n",
       "      <td>M</td>\n",
       "    </tr>\n",
       "    <tr>\n",
       "      <th>2</th>\n",
       "      <td>NEHA</td>\n",
       "      <td>F</td>\n",
       "    </tr>\n",
       "    <tr>\n",
       "      <th>3</th>\n",
       "      <td>MEGHA</td>\n",
       "      <td>F</td>\n",
       "    </tr>\n",
       "  </tbody>\n",
       "</table>\n",
       "</div>"
      ],
      "text/plain": [
       "  Customer_name Customer_gender\n",
       "0        AAKASH               M\n",
       "1          AMAN               M\n",
       "2          NEHA               F\n",
       "3         MEGHA               F"
      ]
     },
     "execution_count": 43,
     "metadata": {},
     "output_type": "execute_result"
    }
   ],
   "source": [
    "question_seven=\"\"\" select CUS_NAME,CUS_GENDER from customer where CUS_NAME LIKE '%A%';\n",
    "             \"\"\"\n",
    "\n",
    "cursorObject.execute(question_seven)\n",
    " \n",
    "output = cursorObject.fetchall()\n",
    "output_df = pd.DataFrame(output, columns=['Customer_name','Customer_gender'])\n",
    "output_df"
   ]
  },
  {
   "cell_type": "code",
   "execution_count": 44,
   "id": "2cb04bd7",
   "metadata": {},
   "outputs": [
    {
     "data": {
      "text/html": [
       "<div>\n",
       "<style scoped>\n",
       "    .dataframe tbody tr th:only-of-type {\n",
       "        vertical-align: middle;\n",
       "    }\n",
       "\n",
       "    .dataframe tbody tr th {\n",
       "        vertical-align: top;\n",
       "    }\n",
       "\n",
       "    .dataframe thead th {\n",
       "        text-align: right;\n",
       "    }\n",
       "</style>\n",
       "<table border=\"1\" class=\"dataframe\">\n",
       "  <thead>\n",
       "    <tr style=\"text-align: right;\">\n",
       "      <th></th>\n",
       "      <th>Total_Order_Amount</th>\n",
       "    </tr>\n",
       "  </thead>\n",
       "  <tbody>\n",
       "    <tr>\n",
       "      <th>0</th>\n",
       "      <td>34500</td>\n",
       "    </tr>\n",
       "  </tbody>\n",
       "</table>\n",
       "</div>"
      ],
      "text/plain": [
       "  Total_Order_Amount\n",
       "0              34500"
      ]
     },
     "execution_count": 44,
     "metadata": {},
     "output_type": "execute_result"
    }
   ],
   "source": [
    "question_eight=\"\"\"select sum(o.ORD_AMOUNT) from orders o inner join customer c on c.CUS_ID=o.CUS_ID where c.CUS_GENDER='M';\"\"\"\n",
    "\n",
    "cursorObject.execute(question_eight)\n",
    " \n",
    "output = cursorObject.fetchall()\n",
    "output_df = pd.DataFrame(output, columns=['Total_Order_Amount'])\n",
    "output_df"
   ]
  },
  {
   "cell_type": "code",
   "execution_count": 45,
   "id": "07fb1499",
   "metadata": {},
   "outputs": [
    {
     "data": {
      "text/html": [
       "<div>\n",
       "<style scoped>\n",
       "    .dataframe tbody tr th:only-of-type {\n",
       "        vertical-align: middle;\n",
       "    }\n",
       "\n",
       "    .dataframe tbody tr th {\n",
       "        vertical-align: top;\n",
       "    }\n",
       "\n",
       "    .dataframe thead th {\n",
       "        text-align: right;\n",
       "    }\n",
       "</style>\n",
       "<table border=\"1\" class=\"dataframe\">\n",
       "  <thead>\n",
       "    <tr style=\"text-align: right;\">\n",
       "      <th></th>\n",
       "      <th>Customer_Id</th>\n",
       "      <th>Customer_Name</th>\n",
       "      <th>Customer_Phone</th>\n",
       "      <th>Customer_City</th>\n",
       "      <th>Customer_Gender</th>\n",
       "    </tr>\n",
       "  </thead>\n",
       "  <tbody>\n",
       "    <tr>\n",
       "      <th>0</th>\n",
       "      <td>1</td>\n",
       "      <td>AAKASH</td>\n",
       "      <td>9999999999</td>\n",
       "      <td>DELHI</td>\n",
       "      <td>M</td>\n",
       "    </tr>\n",
       "    <tr>\n",
       "      <th>1</th>\n",
       "      <td>2</td>\n",
       "      <td>AMAN</td>\n",
       "      <td>9785463215</td>\n",
       "      <td>NOIDA</td>\n",
       "      <td>M</td>\n",
       "    </tr>\n",
       "    <tr>\n",
       "      <th>2</th>\n",
       "      <td>3</td>\n",
       "      <td>NEHA</td>\n",
       "      <td>9999999998</td>\n",
       "      <td>MUMBAI</td>\n",
       "      <td>F</td>\n",
       "    </tr>\n",
       "    <tr>\n",
       "      <th>3</th>\n",
       "      <td>4</td>\n",
       "      <td>MEGHA</td>\n",
       "      <td>9994562399</td>\n",
       "      <td>KOLKATA</td>\n",
       "      <td>F</td>\n",
       "    </tr>\n",
       "    <tr>\n",
       "      <th>4</th>\n",
       "      <td>5</td>\n",
       "      <td>PULKIT</td>\n",
       "      <td>7895999999</td>\n",
       "      <td>LUCKNOW</td>\n",
       "      <td>M</td>\n",
       "    </tr>\n",
       "  </tbody>\n",
       "</table>\n",
       "</div>"
      ],
      "text/plain": [
       "   Customer_Id Customer_Name Customer_Phone Customer_City Customer_Gender\n",
       "0            1        AAKASH     9999999999         DELHI               M\n",
       "1            2          AMAN     9785463215         NOIDA               M\n",
       "2            3          NEHA     9999999998        MUMBAI               F\n",
       "3            4         MEGHA     9994562399       KOLKATA               F\n",
       "4            5        PULKIT     7895999999       LUCKNOW               M"
      ]
     },
     "execution_count": 45,
     "metadata": {},
     "output_type": "execute_result"
    }
   ],
   "source": [
    "question_nine=\"\"\" select c.CUS_ID,c.CUS_NAME,c.CUS_PHONE,c.CUS_CITY,c.CUS_GENDER from customer c\n",
    "                  left outer join orders o on c.CUS_ID=o.CUS_ID ;\n",
    "              \"\"\"\n",
    "\n",
    "cursorObject.execute(question_nine)\n",
    " \n",
    "output = cursorObject.fetchall()\n",
    "output_df = pd.DataFrame(output, columns=['Customer_Id','Customer_Name','Customer_Phone','Customer_City','Customer_Gender'])\n",
    "output_df"
   ]
  },
  {
   "cell_type": "code",
   "execution_count": 46,
   "id": "c38cac68",
   "metadata": {},
   "outputs": [],
   "source": [
    "connection.close()"
   ]
  },
  {
   "cell_type": "code",
   "execution_count": null,
   "id": "e3b62329",
   "metadata": {},
   "outputs": [],
   "source": []
  }
 ],
 "metadata": {
  "kernelspec": {
   "display_name": "Python 3 (ipykernel)",
   "language": "python",
   "name": "python3"
  },
  "language_info": {
   "codemirror_mode": {
    "name": "ipython",
    "version": 3
   },
   "file_extension": ".py",
   "mimetype": "text/x-python",
   "name": "python",
   "nbconvert_exporter": "python",
   "pygments_lexer": "ipython3",
   "version": "3.9.13"
  }
 },
 "nbformat": 4,
 "nbformat_minor": 5
}
